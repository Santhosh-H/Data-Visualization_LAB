{
  "cells": [
    {
      "cell_type": "markdown",
      "id": "4e8ab3b2",
      "metadata": {
        "id": "4e8ab3b2"
      },
      "source": [
        "# Ex No 1.c: Universal Functions\n",
        "Aim:\n",
        "To explore the use of universal functions in NumPy for element-wise operations, including mathematical, statistical, and trigonometric functions.\n",
        "Scenario:\n",
        "You are working as a data scientist for a sports analytics company. You need to analyze the performance metrics of athletes in a decathlon event. The data includes various performance metrics such as running speeds, jump heights, and throw distances. You need to apply various universal functions to analyze and normalize this data.\n",
        "Sample Dataset:\n",
        "performance_data = {\n",
        "    'running_speed': [10.5, 9.8, 11.2, 10.0, 9.7],\n",
        "    'jump_height': [2.1, 2.3, 2.0, 2.4, 2.2],\n",
        "    'throw_distance': [60.5, 62.0, 59.8, 61.2, 63.5]\n",
        "}\n",
        "Task to be Performed:\n",
        "1.\tCreate a NumPy array for each performance metric.\n",
        "2.\tCalculate the square of the running speeds using a universal function.\n",
        "3.\tNormalize the jump heights by subtracting the mean and dividing by the standard deviation.\n",
        "4.\tApply the exponential function to the throw distances to model their growth.\n",
        "5.\tCalculate the logarithm of the normalized jump heights to explore the data distribution.\n",
        "6.\tApply the sine function to the running speeds to study their periodic behavior.\n"
      ]
    },
    {
      "cell_type": "code",
      "execution_count": null,
      "id": "122c82fe",
      "metadata": {
        "id": "122c82fe"
      },
      "outputs": [],
      "source": []
    },
    {
      "cell_type": "markdown",
      "id": "8490d197",
      "metadata": {
        "id": "8490d197"
      },
      "source": [
        "# Ex No 1.d: Aggregate Functions\n",
        "\n",
        "Aim:\n",
        "To use aggregate functions in NumPy for summarizing and analyzing data.\n",
        "\n",
        "Scenario:\n",
        "You are a financial analyst examining the monthly returns of different investment portfolios. You need to calculate various aggregate statistics to understand the performance and risk associated with each portfolio.\n",
        "\n",
        "Sample Dataset:\n",
        "returns_data = {\n",
        "    'portfolio_A': [0.05, 0.02, 0.04, 0.03, 0.06, 0.01],\n",
        "    'portfolio_B': [0.04, 0.03, 0.05, 0.02, 0.01, 0.04],\n",
        "    'portfolio_C': [0.03, 0.01, 0.02, 0.03, 0.04, 0.05]\n",
        "}\n",
        "\n",
        "Task to be Performed:\n",
        "1.\tCreate a NumPy array for each portfolio's returns.\n",
        "2.\tCalculate the total return for each portfolio over the six months.\n",
        "3.\tCalculate the mean monthly return for each portfolio.\n",
        "4.\tFind the portfolio with the highest mean return.\n",
        "5.\tCalculate the overall average return across all portfolios.\n",
        "6.\tDetermine the variance and standard deviation of the returns for each portfolio to assess risk.\n"
      ]
    },
    {
      "cell_type": "code",
      "execution_count": 1,
      "id": "ca2cbdb5",
      "metadata": {
        "id": "ca2cbdb5",
        "outputId": "cba75c5e-f8f9-49d4-b8a1-186eb79f1625",
        "colab": {
          "base_uri": "https://localhost:8080/"
        }
      },
      "outputs": [
        {
          "output_type": "stream",
          "name": "stdout",
          "text": [
            "Total return for portfolio A: 0.21000000000000002\n",
            "Total return for portfolio B: 0.19000000000000003\n",
            "Total return for portfolio C: 0.18\n",
            "Mean return for portfolio A: 0.035\n",
            "Mean return for portfolio B: 0.03166666666666667\n",
            "Mean return for portfolio C: 0.03\n",
            "Portfolio with highest mean return: 0\n",
            "Overall average return: 0.03222222222222223\n",
            "Variance for portfolio A: 0.00029166666666666664\n",
            "Variance for portfolio B: 0.00018055555555555557\n",
            "Variance for portfolio C: 0.00016666666666666666\n",
            "Standard deviation for portfolio A: 0.01707825127659933\n",
            "Standard deviation for portfolio B: 0.01343709624716425\n",
            "Standard deviation for portfolio C: 0.012909944487358056\n"
          ]
        }
      ],
      "source": [
        "import numpy as np\n",
        "\n",
        "returns_data = {\n",
        "    'portfolio_A': [0.05, 0.02, 0.04, 0.03, 0.06, 0.01],\n",
        "    'portfolio_B': [0.04, 0.03, 0.05, 0.02, 0.01, 0.04],\n",
        "    'portfolio_C': [0.03, 0.01, 0.02, 0.03, 0.04, 0.05]\n",
        "}\n",
        "\n",
        "portfolio_A_arr = np.array(returns_data['portfolio_A'])\n",
        "portfolio_B_arr = np.array(returns_data['portfolio_B'])\n",
        "portfolio_C_arr = np.array(returns_data['portfolio_C'])\n",
        "\n",
        "\n",
        "total_return_A = np.sum(portfolio_A_arr)\n",
        "total_return_B = np.sum(portfolio_B_arr)\n",
        "total_return_C = np.sum(portfolio_C_arr)\n",
        "print(\"Total return for portfolio A:\", total_return_A)\n",
        "print(\"Total return for portfolio B:\", total_return_B)\n",
        "print(\"Total return for portfolio C:\", total_return_C)\n",
        "\n",
        "\n",
        "mean_return_A = np.mean(portfolio_A_arr)\n",
        "mean_return_B = np.mean(portfolio_B_arr)\n",
        "mean_return_C = np.mean(portfolio_C_arr)\n",
        "print(\"Mean return for portfolio A:\", mean_return_A)\n",
        "print(\"Mean return for portfolio B:\", mean_return_B)\n",
        "print(\"Mean return for portfolio C:\", mean_return_C)\n",
        "\n",
        "\n",
        "max_mean_return = np.max([mean_return_A, mean_return_B, mean_return_C])\n",
        "print(\"Portfolio with highest mean return:\", np.argmax([mean_return_A, mean_return_B, mean_return_C]))\n",
        "\n",
        "\n",
        "overall_mean_return = np.mean([mean_return_A, mean_return_B, mean_return_C])\n",
        "print(\"Overall average return:\", overall_mean_return)\n",
        "\n",
        "\n",
        "variance_A = np.var(portfolio_A_arr)\n",
        "variance_B = np.var(portfolio_B_arr)\n",
        "variance_C = np.var(portfolio_C_arr)\n",
        "std_dev_A = np.std(portfolio_A_arr)\n",
        "std_dev_B = np.std(portfolio_B_arr)\n",
        "std_dev_C = np.std(portfolio_C_arr)\n",
        "print(\"Variance for portfolio A:\", variance_A)\n",
        "print(\"Variance for portfolio B:\", variance_B)\n",
        "print(\"Variance for portfolio C:\", variance_C)\n",
        "print(\"Standard deviation for portfolio A:\", std_dev_A)\n",
        "print(\"Standard deviation for portfolio B:\", std_dev_B)\n",
        "print(\"Standard deviation for portfolio C:\", std_dev_C)"
      ]
    },
    {
      "cell_type": "code",
      "execution_count": null,
      "id": "e56c8d72",
      "metadata": {
        "id": "e56c8d72"
      },
      "outputs": [],
      "source": []
    }
  ],
  "metadata": {
    "kernelspec": {
      "display_name": "Python 3",
      "language": "python",
      "name": "python3"
    },
    "language_info": {
      "codemirror_mode": {
        "name": "ipython",
        "version": 3
      },
      "file_extension": ".py",
      "mimetype": "text/x-python",
      "name": "python",
      "nbconvert_exporter": "python",
      "pygments_lexer": "ipython3",
      "version": "3.8.8"
    },
    "colab": {
      "provenance": []
    }
  },
  "nbformat": 4,
  "nbformat_minor": 5
}